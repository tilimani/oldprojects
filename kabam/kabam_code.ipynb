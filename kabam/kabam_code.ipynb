{
 "cells": [
  {
   "cell_type": "code",
   "execution_count": 6,
   "metadata": {},
   "outputs": [],
   "source": [
    "import pandas as pd\n",
    "import numpy as np\n",
    "import matplotlib.pyplot as plt"
   ]
  },
  {
   "cell_type": "code",
   "execution_count": 7,
   "metadata": {},
   "outputs": [],
   "source": [
    "import dask.dataframe as dd"
   ]
  },
  {
   "cell_type": "code",
   "execution_count": 8,
   "metadata": {},
   "outputs": [
    {
     "name": "stderr",
     "output_type": "stream",
     "text": [
      "/anaconda3/lib/python3.6/site-packages/numpy/lib/arraysetops.py:472: FutureWarning: elementwise comparison failed; returning scalar instead, but in the future will perform elementwise comparison\n",
      "  mask |= (ar1 == a)\n"
     ]
    },
    {
     "data": {
      "text/html": [
       "<div>\n",
       "<style scoped>\n",
       "    .dataframe tbody tr th:only-of-type {\n",
       "        vertical-align: middle;\n",
       "    }\n",
       "\n",
       "    .dataframe tbody tr th {\n",
       "        vertical-align: top;\n",
       "    }\n",
       "\n",
       "    .dataframe thead th {\n",
       "        text-align: right;\n",
       "    }\n",
       "</style>\n",
       "<table border=\"1\" class=\"dataframe\">\n",
       "  <thead>\n",
       "    <tr style=\"text-align: right;\">\n",
       "      <th></th>\n",
       "      <th>uid</th>\n",
       "      <th>session_id</th>\n",
       "      <th>connectivity</th>\n",
       "      <th>platform</th>\n",
       "      <th>in_alliance</th>\n",
       "      <th>session_start_time</th>\n",
       "      <th>end_time</th>\n",
       "      <th>install_session</th>\n",
       "      <th>hc_store_visits</th>\n",
       "      <th>tutorial_completion</th>\n",
       "      <th>...</th>\n",
       "      <th>other_wins</th>\n",
       "      <th>pve_fights</th>\n",
       "      <th>pve_wins</th>\n",
       "      <th>pvp_fights</th>\n",
       "      <th>pvp_wins</th>\n",
       "      <th>total_fights</th>\n",
       "      <th>total_fight_time</th>\n",
       "      <th>transactions</th>\n",
       "      <th>spend</th>\n",
       "      <th>level</th>\n",
       "    </tr>\n",
       "  </thead>\n",
       "  <tbody>\n",
       "  </tbody>\n",
       "</table>\n",
       "<p>0 rows × 30 columns</p>\n",
       "</div>"
      ],
      "text/plain": [
       "Empty DataFrame\n",
       "Columns: [uid, session_id, connectivity, platform, in_alliance, session_start_time, end_time, install_session, hc_store_visits, tutorial_completion, tutorial_complete_timestamp, authentication_types, sc_spent, sc_earned, xp_earned, ava_fights, ava_wins, ave_fights, ave_wins, other_fights, other_wins, pve_fights, pve_wins, pvp_fights, pvp_wins, total_fights, total_fight_time, transactions, spend, level]\n",
       "Index: []\n",
       "\n",
       "[0 rows x 30 columns]"
      ]
     },
     "execution_count": 8,
     "metadata": {},
     "output_type": "execute_result"
    }
   ],
   "source": [
    "#import dataframes\n",
    "user = pd.read_csv('/Users/alex/desktop/kabam/data/ubc_vc_2019_users.csv', low_memory=False, index_col=0)\n",
    "session = pd.read_csv('/Users/alex/desktop/kabam/data/ubc_vc_2019_sessions.csv', low_memory=False,index_col=0)\n",
    "session.head(0)"
   ]
  },
  {
   "cell_type": "code",
   "execution_count": 9,
   "metadata": {},
   "outputs": [],
   "source": [
    "#import eval dataframes\n",
    "eval_user = pd.read_csv('/Users/alex/desktop/kabam/data/eval/ubc_vc_2019_users_evalset.csv', low_memory=False)\n",
    "eval_session = pd.read_csv('/Users/alex/desktop/kabam/data/eval/ubc_vc_2019_sessions_evalset.csv', low_memory=False)"
   ]
  },
  {
   "cell_type": "code",
   "execution_count": 12,
   "metadata": {},
   "outputs": [
    {
     "data": {
      "text/plain": [
       "312875"
      ]
     },
     "execution_count": 12,
     "metadata": {},
     "output_type": "execute_result"
    }
   ],
   "source": [
    "# user_uid is unique user id's in the user data\n",
    "user_uid = eval_user.uid.unique()\n",
    "len(user_uid)\n",
    "#type(user_uid)"
   ]
  },
  {
   "cell_type": "code",
   "execution_count": 13,
   "metadata": {},
   "outputs": [
    {
     "data": {
      "text/plain": [
       "312905"
      ]
     },
     "execution_count": 13,
     "metadata": {},
     "output_type": "execute_result"
    }
   ],
   "source": [
    "# HOW MANY UNIQUE USERS IN SESSION // 296248\n",
    "# sess_uid is unique user id's in the session data\n",
    "sess_uid = eval_session.uid.unique()\n",
    "len(sess_uid)\n",
    "#type(sess_uid)"
   ]
  },
  {
   "cell_type": "code",
   "execution_count": 14,
   "metadata": {},
   "outputs": [
    {
     "data": {
      "text/plain": [
       "261859"
      ]
     },
     "execution_count": 14,
     "metadata": {},
     "output_type": "execute_result"
    }
   ],
   "source": [
    "#HOW MANY OF THOSE UNIQUE USERS ARE IN THE SESSION DATA // 244812\n",
    "crossover = set(user_uid).intersection(set(sess_uid))\n",
    "len(crossover)"
   ]
  },
  {
   "cell_type": "code",
   "execution_count": 26,
   "metadata": {},
   "outputs": [],
   "source": [
    "#create in_session column initialized to false\n",
    "eval_user['in_session'] = 0"
   ]
  },
  {
   "cell_type": "code",
   "execution_count": 30,
   "metadata": {},
   "outputs": [
    {
     "data": {
      "text/html": [
       "<div>\n",
       "<style scoped>\n",
       "    .dataframe tbody tr th:only-of-type {\n",
       "        vertical-align: middle;\n",
       "    }\n",
       "\n",
       "    .dataframe tbody tr th {\n",
       "        vertical-align: top;\n",
       "    }\n",
       "\n",
       "    .dataframe thead th {\n",
       "        text-align: right;\n",
       "    }\n",
       "</style>\n",
       "<table border=\"1\" class=\"dataframe\">\n",
       "  <thead>\n",
       "    <tr style=\"text-align: right;\">\n",
       "      <th></th>\n",
       "      <th>uid</th>\n",
       "      <th>in_alliance</th>\n",
       "      <th>device_model</th>\n",
       "      <th>device_os</th>\n",
       "      <th>registered_email</th>\n",
       "      <th>geo</th>\n",
       "      <th>language</th>\n",
       "      <th>level</th>\n",
       "      <th>platform</th>\n",
       "      <th>first_spend_time</th>\n",
       "      <th>install_time</th>\n",
       "      <th>last_login_time</th>\n",
       "      <th>last_spend_time</th>\n",
       "      <th>tutorial_complete</th>\n",
       "      <th>in_session</th>\n",
       "    </tr>\n",
       "  </thead>\n",
       "  <tbody>\n",
       "    <tr>\n",
       "      <th>0</th>\n",
       "      <td>nECA5kpKb8dicAWskIPNtH+54o+QaT5sOXO1FcbWMrQ=</td>\n",
       "      <td>False</td>\n",
       "      <td>MI MAX</td>\n",
       "      <td>Android OS 7.0</td>\n",
       "      <td>False</td>\n",
       "      <td>AD</td>\n",
       "      <td>es</td>\n",
       "      <td>4.0</td>\n",
       "      <td>android</td>\n",
       "      <td>NaN</td>\n",
       "      <td>2018-03-03 14:05:37+00:00</td>\n",
       "      <td>2018-03-03 14:05:37+00:00</td>\n",
       "      <td>NaN</td>\n",
       "      <td>True</td>\n",
       "      <td>0</td>\n",
       "    </tr>\n",
       "    <tr>\n",
       "      <th>1</th>\n",
       "      <td>pgLv24IvdyepO+wQvVfulsBW1x/FJEu6E3ffiGXHap0=</td>\n",
       "      <td>False</td>\n",
       "      <td>CAM-L21</td>\n",
       "      <td>Android OS 6.0</td>\n",
       "      <td>True</td>\n",
       "      <td>AD</td>\n",
       "      <td>es</td>\n",
       "      <td>12.0</td>\n",
       "      <td>android</td>\n",
       "      <td>NaN</td>\n",
       "      <td>2018-03-24 19:15:55+00:00</td>\n",
       "      <td>2018-04-08 20:40:43+00:00</td>\n",
       "      <td>NaN</td>\n",
       "      <td>True</td>\n",
       "      <td>0</td>\n",
       "    </tr>\n",
       "    <tr>\n",
       "      <th>2</th>\n",
       "      <td>LG68DtHGN8cvdDxOiT4k6pstWMGOiWlnbO+SYurdlVM=</td>\n",
       "      <td>False</td>\n",
       "      <td>M5 Note</td>\n",
       "      <td>Android OS 6.0</td>\n",
       "      <td>True</td>\n",
       "      <td>AD</td>\n",
       "      <td>es</td>\n",
       "      <td>6.0</td>\n",
       "      <td>android</td>\n",
       "      <td>NaN</td>\n",
       "      <td>2018-03-21 20:16:47+00:00</td>\n",
       "      <td>2018-03-22 04:03:17+00:00</td>\n",
       "      <td>NaN</td>\n",
       "      <td>True</td>\n",
       "      <td>0</td>\n",
       "    </tr>\n",
       "    <tr>\n",
       "      <th>3</th>\n",
       "      <td>o55PtsCOIpQAZxxXxlAwZHq1wltMo0JrCmZWS/pvnM0=</td>\n",
       "      <td>False</td>\n",
       "      <td>SM-T530</td>\n",
       "      <td>Android OS 5.0.2</td>\n",
       "      <td>True</td>\n",
       "      <td>AD</td>\n",
       "      <td>es</td>\n",
       "      <td>28.0</td>\n",
       "      <td>android</td>\n",
       "      <td>NaN</td>\n",
       "      <td>2018-03-13 16:20:56+00:00</td>\n",
       "      <td>2018-04-15 18:59:15+00:00</td>\n",
       "      <td>NaN</td>\n",
       "      <td>True</td>\n",
       "      <td>0</td>\n",
       "    </tr>\n",
       "    <tr>\n",
       "      <th>4</th>\n",
       "      <td>rfRLPFLQ77hGSWeDrCnpOdhfL6FlRJmOOMk+Muj81N0=</td>\n",
       "      <td>False</td>\n",
       "      <td>TRT-LX1</td>\n",
       "      <td>Android OS 7.0</td>\n",
       "      <td>False</td>\n",
       "      <td>AD</td>\n",
       "      <td>es</td>\n",
       "      <td>1.0</td>\n",
       "      <td>android</td>\n",
       "      <td>NaN</td>\n",
       "      <td>2018-03-17 13:45:13+00:00</td>\n",
       "      <td>2018-03-17 13:45:13+00:00</td>\n",
       "      <td>NaN</td>\n",
       "      <td>True</td>\n",
       "      <td>0</td>\n",
       "    </tr>\n",
       "  </tbody>\n",
       "</table>\n",
       "</div>"
      ],
      "text/plain": [
       "                                            uid  in_alliance device_model  \\\n",
       "0  nECA5kpKb8dicAWskIPNtH+54o+QaT5sOXO1FcbWMrQ=        False       MI MAX   \n",
       "1  pgLv24IvdyepO+wQvVfulsBW1x/FJEu6E3ffiGXHap0=        False      CAM-L21   \n",
       "2  LG68DtHGN8cvdDxOiT4k6pstWMGOiWlnbO+SYurdlVM=        False      M5 Note   \n",
       "3  o55PtsCOIpQAZxxXxlAwZHq1wltMo0JrCmZWS/pvnM0=        False      SM-T530   \n",
       "4  rfRLPFLQ77hGSWeDrCnpOdhfL6FlRJmOOMk+Muj81N0=        False      TRT-LX1   \n",
       "\n",
       "          device_os  registered_email geo language  level platform  \\\n",
       "0    Android OS 7.0             False  AD       es    4.0  android   \n",
       "1    Android OS 6.0              True  AD       es   12.0  android   \n",
       "2    Android OS 6.0              True  AD       es    6.0  android   \n",
       "3  Android OS 5.0.2              True  AD       es   28.0  android   \n",
       "4    Android OS 7.0             False  AD       es    1.0  android   \n",
       "\n",
       "  first_spend_time               install_time            last_login_time  \\\n",
       "0              NaN  2018-03-03 14:05:37+00:00  2018-03-03 14:05:37+00:00   \n",
       "1              NaN  2018-03-24 19:15:55+00:00  2018-04-08 20:40:43+00:00   \n",
       "2              NaN  2018-03-21 20:16:47+00:00  2018-03-22 04:03:17+00:00   \n",
       "3              NaN  2018-03-13 16:20:56+00:00  2018-04-15 18:59:15+00:00   \n",
       "4              NaN  2018-03-17 13:45:13+00:00  2018-03-17 13:45:13+00:00   \n",
       "\n",
       "  last_spend_time  tutorial_complete  in_session  \n",
       "0             NaN               True           0  \n",
       "1             NaN               True           0  \n",
       "2             NaN               True           0  \n",
       "3             NaN               True           0  \n",
       "4             NaN               True           0  "
      ]
     },
     "execution_count": 30,
     "metadata": {},
     "output_type": "execute_result"
    }
   ],
   "source": [
    "eval_user.head()"
   ]
  },
  {
   "cell_type": "code",
   "execution_count": 33,
   "metadata": {},
   "outputs": [
    {
     "name": "stdout",
     "output_type": "stream",
     "text": [
      "0.0% complete.\n",
      "3.19% complete.\n",
      "6.39% complete.\n",
      "9.58% complete.\n",
      "12.7% complete.\n",
      "15.9% complete.\n",
      "19.1% complete.\n",
      "22.3% complete.\n",
      "25.5% complete.\n",
      "28.7% complete.\n",
      "31.9% complete.\n",
      "35.1% complete.\n",
      "38.3% complete.\n",
      "41.5% complete.\n",
      "44.7% complete.\n",
      "47.9% complete.\n",
      "51.1% complete.\n",
      "54.3% complete.\n",
      "57.5% complete.\n",
      "60.7% complete.\n",
      "63.9% complete.\n",
      "67.1% complete.\n",
      "70.3% complete.\n",
      "73.5% complete.\n",
      "76.7% complete.\n",
      "79.9% complete.\n",
      "83.1% complete.\n",
      "86.2% complete.\n",
      "89.4% complete.\n",
      "92.6% complete.\n",
      "95.8% complete.\n",
      "99.0% complete.\n",
      "Does 51016 equal to 51016\n"
     ]
    }
   ],
   "source": [
    "# in_session is default @ False => for loop changes it to True\n",
    "not_in_session = 0\n",
    "progress = 0\n",
    "\n",
    "for id in range(0, len(eval_user)):\n",
    "    if eval_user.loc[id, 'uid'] in crossover:\n",
    "        eval_user.loc[id, 'in_session'] = 1\n",
    "        if id % 10000 == 0: \n",
    "            progress = id/len(eval_user)\n",
    "            print(str(progress * 100)[:4] + \"% complete.\")\n",
    "\n",
    "    else: \n",
    "        not_in_session += 1\n",
    "        if id % 10000 == 0: \n",
    "            progress = id/len(eval_user)\n",
    "            print(str(progress * 100)[:4] + \"% complete.\")\n",
    "        \n",
    "print(\"Does \" + str(not_in_session) + \" equal to \" + str((len(user_uid) - len(crossover))))"
   ]
  },
  {
   "cell_type": "code",
   "execution_count": 62,
   "metadata": {},
   "outputs": [],
   "source": [
    "#convert users to csv\n",
    "eval_user_csv = eval_user.to_csv('/Users/alex/desktop/eval_user_csv.csv')"
   ]
  },
  {
   "cell_type": "code",
   "execution_count": 40,
   "metadata": {},
   "outputs": [
    {
     "data": {
      "text/plain": [
       "312875"
      ]
     },
     "execution_count": 40,
     "metadata": {},
     "output_type": "execute_result"
    }
   ],
   "source": [
    "len(eval_user)"
   ]
  },
  {
   "cell_type": "code",
   "execution_count": null,
   "metadata": {},
   "outputs": [],
   "source": []
  },
  {
   "cell_type": "code",
   "execution_count": 64,
   "metadata": {},
   "outputs": [
    {
     "data": {
      "text/html": [
       "<div>\n",
       "<style scoped>\n",
       "    .dataframe tbody tr th:only-of-type {\n",
       "        vertical-align: middle;\n",
       "    }\n",
       "\n",
       "    .dataframe tbody tr th {\n",
       "        vertical-align: top;\n",
       "    }\n",
       "\n",
       "    .dataframe thead th {\n",
       "        text-align: right;\n",
       "    }\n",
       "</style>\n",
       "<table border=\"1\" class=\"dataframe\">\n",
       "  <thead>\n",
       "    <tr style=\"text-align: right;\">\n",
       "      <th></th>\n",
       "      <th>uid</th>\n",
       "      <th>in_alliance</th>\n",
       "      <th>device_model</th>\n",
       "      <th>device_os</th>\n",
       "      <th>registered_email</th>\n",
       "      <th>num_friends</th>\n",
       "      <th>power</th>\n",
       "      <th>geo</th>\n",
       "      <th>language</th>\n",
       "      <th>level</th>\n",
       "      <th>total_logins</th>\n",
       "      <th>platform</th>\n",
       "      <th>install_time</th>\n",
       "      <th>first_spend_time</th>\n",
       "      <th>last_login_time</th>\n",
       "      <th>last_spend_time</th>\n",
       "      <th>lt_spend</th>\n",
       "      <th>tutorial_complete</th>\n",
       "      <th>in_session</th>\n",
       "    </tr>\n",
       "  </thead>\n",
       "  <tbody>\n",
       "    <tr>\n",
       "      <th>0</th>\n",
       "      <td>iAVWIbMaJHm20cPrLxgABE3tbzMOlrFCthS+vk07h40=</td>\n",
       "      <td>True</td>\n",
       "      <td>SM-J730FM</td>\n",
       "      <td>Android OS 7.0</td>\n",
       "      <td>True</td>\n",
       "      <td>0</td>\n",
       "      <td>384.0</td>\n",
       "      <td>BY</td>\n",
       "      <td>ru</td>\n",
       "      <td>17.0</td>\n",
       "      <td>30</td>\n",
       "      <td>android</td>\n",
       "      <td>2018-02-09 20:08:51+00:00</td>\n",
       "      <td>NaN</td>\n",
       "      <td>2018-02-19 09:22:13+00:00</td>\n",
       "      <td>NaN</td>\n",
       "      <td>0.0</td>\n",
       "      <td>True</td>\n",
       "      <td>0</td>\n",
       "    </tr>\n",
       "    <tr>\n",
       "      <th>1</th>\n",
       "      <td>czL3c1UsK3BRtPbSckCby0ohFqyS7IbTChSUiD5vaGc=</td>\n",
       "      <td>False</td>\n",
       "      <td>Studio C HD</td>\n",
       "      <td>Android OS 6.0</td>\n",
       "      <td>False</td>\n",
       "      <td>0</td>\n",
       "      <td>117.0</td>\n",
       "      <td>TT</td>\n",
       "      <td>en</td>\n",
       "      <td>1.0</td>\n",
       "      <td>1</td>\n",
       "      <td>android</td>\n",
       "      <td>2018-02-02 21:39:16+00:00</td>\n",
       "      <td>NaN</td>\n",
       "      <td>2018-02-02 21:39:16+00:00</td>\n",
       "      <td>NaN</td>\n",
       "      <td>0.0</td>\n",
       "      <td>False</td>\n",
       "      <td>0</td>\n",
       "    </tr>\n",
       "    <tr>\n",
       "      <th>2</th>\n",
       "      <td>eyz3+noW7V1AiLQ1Ddkt3jtigmC9IRSHea/gyir2Yo0=</td>\n",
       "      <td>False</td>\n",
       "      <td>SM-J730F</td>\n",
       "      <td>Android OS 7.0</td>\n",
       "      <td>False</td>\n",
       "      <td>0</td>\n",
       "      <td>161.0</td>\n",
       "      <td>IL</td>\n",
       "      <td>it</td>\n",
       "      <td>9.0</td>\n",
       "      <td>24</td>\n",
       "      <td>android</td>\n",
       "      <td>2018-02-09 11:56:29+00:00</td>\n",
       "      <td>NaN</td>\n",
       "      <td>2018-02-15 11:51:33+00:00</td>\n",
       "      <td>NaN</td>\n",
       "      <td>0.0</td>\n",
       "      <td>True</td>\n",
       "      <td>0</td>\n",
       "    </tr>\n",
       "  </tbody>\n",
       "</table>\n",
       "</div>"
      ],
      "text/plain": [
       "                                            uid  in_alliance device_model  \\\n",
       "0  iAVWIbMaJHm20cPrLxgABE3tbzMOlrFCthS+vk07h40=         True    SM-J730FM   \n",
       "1  czL3c1UsK3BRtPbSckCby0ohFqyS7IbTChSUiD5vaGc=        False  Studio C HD   \n",
       "2  eyz3+noW7V1AiLQ1Ddkt3jtigmC9IRSHea/gyir2Yo0=        False     SM-J730F   \n",
       "\n",
       "        device_os  registered_email  num_friends  power geo language  level  \\\n",
       "0  Android OS 7.0              True            0  384.0  BY       ru   17.0   \n",
       "1  Android OS 6.0             False            0  117.0  TT       en    1.0   \n",
       "2  Android OS 7.0             False            0  161.0  IL       it    9.0   \n",
       "\n",
       "   total_logins platform               install_time first_spend_time  \\\n",
       "0            30  android  2018-02-09 20:08:51+00:00              NaN   \n",
       "1             1  android  2018-02-02 21:39:16+00:00              NaN   \n",
       "2            24  android  2018-02-09 11:56:29+00:00              NaN   \n",
       "\n",
       "             last_login_time last_spend_time  lt_spend  tutorial_complete  \\\n",
       "0  2018-02-19 09:22:13+00:00             NaN       0.0               True   \n",
       "1  2018-02-02 21:39:16+00:00             NaN       0.0              False   \n",
       "2  2018-02-15 11:51:33+00:00             NaN       0.0               True   \n",
       "\n",
       "   in_session  \n",
       "0           0  \n",
       "1           0  \n",
       "2           0  "
      ]
     },
     "execution_count": 64,
     "metadata": {},
     "output_type": "execute_result"
    }
   ],
   "source": [
    "#read it again to test it\n",
    "test = pd.read_csv('/Users/alex/desktop/eval_user_csv.csv')\n",
    "test.head(3)"
   ]
  },
  {
   "cell_type": "code",
   "execution_count": null,
   "metadata": {},
   "outputs": [],
   "source": []
  },
  {
   "cell_type": "code",
   "execution_count": 20,
   "metadata": {},
   "outputs": [
    {
     "name": "stdout",
     "output_type": "stream",
     "text": [
      "false\n",
      "false\n",
      "false\n",
      "false\n",
      "false\n",
      "false\n",
      "false\n",
      "false\n",
      "false\n",
      "false\n",
      "false\n"
     ]
    }
   ],
   "source": [
    "# look at top 10 UIDs in FINISHED test data (returns UID and in_session)\n",
    "ten_uid_and_session = test.loc[:10, ['uid', 'in_session']]\n",
    "ten_uid = ten_uid_and_session.loc[:15, 'uid'].unique() # array of uids\n",
    "\n",
    "for uid in ten_uid:\n",
    "    if uid in session.loc[:len(session),'uid'].unique():\n",
    "        print('true')\n",
    "    else: \n",
    "        print('false')\n",
    "\n",
    "# look for them in session data\n"
   ]
  },
  {
   "cell_type": "code",
   "execution_count": 65,
   "metadata": {},
   "outputs": [
    {
     "data": {
      "text/plain": [
       "Unnamed: 0             int64\n",
       "uid                   object\n",
       "in_alliance             bool\n",
       "device_model          object\n",
       "device_os             object\n",
       "registered_email        bool\n",
       "geo                   object\n",
       "language              object\n",
       "level                float64\n",
       "platform              object\n",
       "first_spend_time      object\n",
       "install_time          object\n",
       "last_login_time       object\n",
       "last_spend_time       object\n",
       "tutorial_complete       bool\n",
       "in_session             int64\n",
       "dtype: object"
      ]
     },
     "execution_count": 65,
     "metadata": {},
     "output_type": "execute_result"
    }
   ],
   "source": [
    "(test.dtypes)"
   ]
  },
  {
   "cell_type": "code",
   "execution_count": 60,
   "metadata": {},
   "outputs": [
    {
     "data": {
      "text/plain": [
       "uid                   object\n",
       "in_alliance             bool\n",
       "device_model          object\n",
       "device_os             object\n",
       "registered_email        bool\n",
       "geo                   object\n",
       "language              object\n",
       "level                float64\n",
       "platform              object\n",
       "first_spend_time      object\n",
       "install_time          object\n",
       "last_login_time       object\n",
       "last_spend_time       object\n",
       "tutorial_complete       bool\n",
       "in_session             int64\n",
       "dtype: object"
      ]
     },
     "execution_count": 60,
     "metadata": {},
     "output_type": "execute_result"
    }
   ],
   "source": [
    "(eval_user.dtypes) "
   ]
  },
  {
   "cell_type": "code",
   "execution_count": null,
   "metadata": {},
   "outputs": [],
   "source": []
  },
  {
   "cell_type": "code",
   "execution_count": null,
   "metadata": {},
   "outputs": [],
   "source": []
  },
  {
   "cell_type": "code",
   "execution_count": null,
   "metadata": {},
   "outputs": [],
   "source": []
  },
  {
   "cell_type": "code",
   "execution_count": null,
   "metadata": {},
   "outputs": [],
   "source": []
  }
 ],
 "metadata": {
  "kernelspec": {
   "display_name": "Python 3",
   "language": "python",
   "name": "python3"
  },
  "language_info": {
   "codemirror_mode": {
    "name": "ipython",
    "version": 3
   },
   "file_extension": ".py",
   "mimetype": "text/x-python",
   "name": "python",
   "nbconvert_exporter": "python",
   "pygments_lexer": "ipython3",
   "version": "3.6.8"
  }
 },
 "nbformat": 4,
 "nbformat_minor": 2
}
